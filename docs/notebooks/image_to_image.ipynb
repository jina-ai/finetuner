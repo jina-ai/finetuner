{
  "cells": [
    {
      "cell_type": "markdown",
      "metadata": {
        "id": "p8jc8EyfruKw"
      },
      "source": [
        "# Image-to-Image Search via ResNet50\n",
        "\n",
        "<a href=\"https://colab.research.google.com/drive/1QuUTy3iVR-kTPljkwplKYaJ-NTCgPEc_?usp=sharing\"><img alt=\"Open In Colab\" src=\"https://colab.research.google.com/assets/colab-badge.svg\"></a>\n",
        "\n",
        "Searching visually similar images with image queries is a very popular use-case. However, using pre-trained models does not deliver the best results – the models are trained on general data that lack the particularities of your specific task. Here's where Finetuner comes in! It enables you to accomplish this easily.\n",
        "\n",
        "This guide will demonstrate how to fine-tune a ResNet model for image to image retrieval.\n",
        "\n",
        "*Note, please consider switching to GPU/TPU Runtime for faster inference.*\n",
        "\n",
        "## Install"
      ]
    },
    {
      "cell_type": "code",
      "execution_count": null,
      "metadata": {
        "id": "VdKH0S0FrwS3"
      },
      "outputs": [],
      "source": [
        "!pip install 'finetuner[full]'"
      ]
    },
    {
      "cell_type": "markdown",
      "metadata": {
        "id": "7EliQdGCsdL0"
      },
      "source": [
        "## Task\n",
        "\n",
        "More specifically, we will fine-tune ResNet50 on [Totally Looks Like Dataset](https://sites.google.com/view/totally-looks-like-dataset).\n",
        "The dataset consists of 6016 pairs of images (12032 in total).\n",
        "\n",
        "The dataset consists of pairs of images, these are the positive pairs. Negative pairs are constructed by taking two different images, i.e. images that are not in the same pair initially. Following this approach, we construct triplets and use the `TripletLoss`. You can find more in the [how Finetuner works](https://finetuner.jina.ai/get-started/how-it-works/#contrastive-metric-learning) section.\n",
        "\n",
        "After fine-tuning, the embeddings of positive pairs are expected to be pulled closer, while the embeddings for negative pairs are expected to be pushed away."
      ]
    },
    {
      "cell_type": "markdown",
      "metadata": {
        "id": "M1sii3xdtD2y"
      },
      "source": [
        "## Data\n",
        "\n",
        "Our journey starts locally. We have to prepare the data and push it to the Jina AI Cloud and Finetuner will be able to get the dataset by its name. For this example,\n",
        "we already prepared the data, and we'll provide the names of training data (`tll-train-data`) directly to Finetuner.\n",
        "\n",
        "```{important} \n",
        "We don't require you to push data to the Jina AI Cloud by yourself. Instead of a name, you can provide a `DocumentArray` and Finetuner will do the job for you.\n",
        "```\n",
        "\n",
        "```{important}\n",
        "When working with Document where images are stored locally, please call `doc.load_uri_to_image_tensor(width=224, height=224)` or another image shape to reduce network transmission and speed up training.\n",
        "```"
      ]
    },
    {
      "cell_type": "code",
      "execution_count": null,
      "metadata": {
        "id": "L0NfPGbTkNsc"
      },
      "outputs": [],
      "source": [
        "import finetuner\n",
        "from docarray import DocumentArray, Document\n",
        "\n",
        "finetuner.login(force=True)"
      ]
    },
    {
      "cell_type": "code",
      "execution_count": null,
      "metadata": {
        "id": "ONpXDwFBsqQS"
      },
      "outputs": [],
      "source": [
        "train_data = DocumentArray.pull('tll-train-data', show_progress=True)\n",
        "query_data = DocumentArray.pull('tll-test-query-data', show_progress=True)\n",
        "index_data = DocumentArray.pull('tll-test-index-data', show_progress=True)\n",
        "\n",
        "train_data.summary()"
      ]
    },
    {
      "cell_type": "markdown",
      "metadata": {
        "id": "mUoY1jq0klwk"
      },
      "source": [
        "## Backbone model\n",
        "Now let's see which backbone models we can use. You can see available models by calling `finetuner.describe_models()`.\n",
        "\n",
        "\n",
        "For this example, we're gonna go with `resnet50`."
      ]
    },
    {
      "cell_type": "markdown",
      "metadata": {
        "id": "xA7IIhIOk0h0"
      },
      "source": [
        "## Fine-tuning\n",
        "\n",
        "Now that we have the training and evaluation datasets loaded as `DocumentArray`s and selected our model, we can start our fine-tuning run."
      ]
    },
    {
      "cell_type": "code",
      "execution_count": null,
      "metadata": {
        "id": "qGrHfz-2kVC7"
      },
      "outputs": [],
      "source": [
        "from finetuner.callback import EvaluationCallback\n",
        "\n",
        "run = finetuner.fit(\n",
        "    model='resnet50',\n",
        "    train_data='tll-train-data',\n",
        "    batch_size=128,\n",
        "    epochs=5,\n",
        "    learning_rate=1e-4,\n",
        "    device='cuda',\n",
        "    callbacks=[\n",
        "        EvaluationCallback(\n",
        "            query_data='tll-test-query-data',\n",
        "            index_data='tll-test-index-data',\n",
        "        )\n",
        "    ],\n",
        ")"
      ]
    },
    {
      "cell_type": "markdown",
      "metadata": {
        "id": "9gvoWipMlG5P"
      },
      "source": [
        "Let's understand what this piece of code does:\n",
        "\n",
        "* As you can see, we have to provide the `model` which we picked before.\n",
        "* We also set `run_name` and `description`, which are optional,\n",
        "but recommended in order to retrieve your run easily and have some context about it.\n",
        "* Furthermore, we had to provide names of the `train_data`.\n",
        "* We set `TripletMarginLoss`.\n",
        "* Additionally, we use `finetuner.callback.EvaluationCallback` for evaluation.\n",
        "* Lastly, we set the number of `epochs` and provide a `learning_rate`."
      ]
    },
    {
      "cell_type": "markdown",
      "metadata": {
        "id": "7ftSOH_olcak"
      },
      "source": [
        "## Monitoring\n",
        "\n",
        "Now that we've created a run, let's see its status. You can monitor the run by checking the status - `run.status()` - and the logs - `run.logs()` or `run.stream_logs()`. "
      ]
    },
    {
      "cell_type": "code",
      "execution_count": null,
      "metadata": {
        "id": "2k3hTskflI7e"
      },
      "outputs": [],
      "source": [
        "# note, the fine-tuning might takes 30~ minutes\n",
        "for entry in run.stream_logs():\n",
        "    print(entry)"
      ]
    },
    {
      "cell_type": "markdown",
      "metadata": {
        "id": "N8O-Ms_El-lV"
      },
      "source": [
        "Since some runs might take up to several hours, it's important to know how to reconnect to Finetuner and retrieve your runs.\n",
        "\n",
        "```python\n",
        "import finetuner\n",
        "finetuner.login()\n",
        "\n",
        "run = finetuner.get_run(run.name)\n",
        "```\n",
        "\n",
        "You can continue monitoring the runs by checking the status - `finetuner.run.Run.status()` or the logs - `finetuner.run.Run.logs()`. "
      ]
    },
    {
      "cell_type": "markdown",
      "metadata": {
        "id": "BMpQxydypeZ3"
      },
      "source": [
        "## Evaluating\n",
        "Currently, we don't have a user-friendly way to get evaluation metrics from the `finetuner.callback.EvaluationCallback` we initialized previously.\n",
        "What you can do for now is to call `run.logs()` in the end of the run and see evaluation results:\n",
        "\n",
        "```bash\n",
        "  Training [5/5] ━━━━━━━━━━━━━━━━━━━━━━━━━━━━━━━━━━━━━━━━ 76/76 0:00:00 0:03:15 • loss: 0.003\n",
        "[16:39:13] DEBUG    Metric: 'model_average_precision' Value: 0.19598                                     __main__.py:202\n",
        "           DEBUG    Metric: 'model_dcg_at_k' Value: 0.28571                                              __main__.py:202\n",
        "           DEBUG    Metric: 'model_f1_score_at_k' Value: 0.04382                                         __main__.py:202\n",
        "           DEBUG    Metric: 'model_hit_at_k' Value: 0.46013                                              __main__.py:202\n",
        "           DEBUG    Metric: 'model_ndcg_at_k' Value: 0.28571                                             __main__.py:202\n",
        "           DEBUG    Metric: 'model_precision_at_k' Value: 0.02301                                        __main__.py:202\n",
        "           DEBUG    Metric: 'model_r_precision' Value: 0.19598                                           __main__.py:202\n",
        "           DEBUG    Metric: 'model_recall_at_k' Value: 0.46013                                           __main__.py:202\n",
        "           DEBUG    Metric: 'model_reciprocal_rank' Value: 0.19598                                       __main__.py:202\n",
        "           INFO     Done ✨                                                                              __main__.py:204\n",
        "           INFO     Saving fine-tuned models ...                                                         __main__.py:207\n",
        "           INFO     Saving model 'model' in /usr/src/app/tuned-models/model ...                          __main__.py:218\n",
        "           INFO     Pushing saved model to Jina AI Cloud ...                                             __main__.py:225\n",
        "[16:39:41] INFO     Pushed model artifact ID: '62b33cb0037ad91ca7f20530'                                 __main__.py:231\n",
        "           INFO     Finished 🚀                                                                          __main__.py:233                           __main__.py:248\n",
        "```"
      ]
    },
    {
      "cell_type": "markdown",
      "metadata": {
        "id": "0l4e4GrspilM"
      },
      "source": [
        "## Saving\n",
        "\n",
        "After the run has finished successfully, you can download the tuned model on your local machine:\n"
      ]
    },
    {
      "cell_type": "code",
      "execution_count": null,
      "metadata": {
        "id": "KzfxhqeCmCa8"
      },
      "outputs": [],
      "source": [
        "artifact = run.save_artifact('resnet-model')"
      ]
    },
    {
      "cell_type": "markdown",
      "metadata": {
        "id": "gkNHTyBkprQ0"
      },
      "source": [
        "## Inference\n",
        "\n",
        "Now you saved the `artifact` into your host machine,\n",
        "let's use the fine-tuned model to encode a new `Document`:\n",
        "\n",
        "```{admonition} Inference with ONNX\n",
        "In case you set `to_onnx=True` when calling `finetuner.fit` function,\n",
        "please use `model = finetuner.get_model(artifact, is_onnx=True)`\n",
        "```"
      ]
    },
    {
      "cell_type": "code",
      "execution_count": null,
      "metadata": {
        "id": "bOi5qcNLplaI"
      },
      "outputs": [],
      "source": [
        "query = DocumentArray([query_data[0]])\n",
        "\n",
        "model = finetuner.get_model(artifact=artifact, device='cuda')\n",
        "\n",
        "finetuner.encode(model=model, data=query)\n",
        "finetuner.encode(model=model, data=index_data)\n",
        "\n",
        "assert query.embeddings.shape == (1, 2048)"
      ]
    },
    {
      "cell_type": "markdown",
      "metadata": {
        "id": "1cC46TQ9pw-H"
      },
      "source": [
        "And finally you can use the embeded `query` to find top-k visually related images within `index_data` as follows:"
      ]
    },
    {
      "cell_type": "code",
      "execution_count": null,
      "metadata": {
        "id": "tBYG9OKrpZ36"
      },
      "outputs": [],
      "source": [
        "query.match(index_data, limit=10, metric='cosine')"
      ]
    },
    {
      "cell_type": "markdown",
      "metadata": {},
      "source": [
        "## Before and After\n",
        "We can directly compare the results of our fine-tuned model with a its zero-shot counterpart to getter a better idea of how finetuning affects the results of a search. While the differences between the two models may be subtle for some queries, the examples below show that the model after fine-tuning is able to better match images look similar (like the first query), as well as match images that represent the same (or similar) things, despite not looking similar (like the second query):\n",
        "\n",
        "```python\n",
        "import copy\n",
        "from PIL import Image\n",
        "from io import BytesIO\n",
        "\n",
        "query_pt = copy.deepcopy(query_data)\n",
        "index_pt = copy.deepcopy(index_data)\n",
        "\n",
        "query_ft = copy.deepcopy(query_pt)\n",
        "index_ft = copy.deepcopy(index_pt)\n",
        "\n",
        "model_pt = finetuner.build_model('resnet50')\n",
        "\n",
        "finetuner.encode(model=model, data=query_ft)\n",
        "finetuner.encode(model=model, data=index_ft)\n",
        "\n",
        "finetuner.encode(model=model_pt, data=query_pt)\n",
        "finetuner.encode(model=model_pt, data=index_pt)\n",
        "\n",
        "query_ft.match(index_ft)\n",
        "query_pt.match(index_pt)\n",
        "\n",
        "num_samples = 10\n",
        "\n",
        "for i, (doc_pt, doc_ft) in enumerate(zip(query_pt, query_ft)):\n",
        "    if i < num_samples:\n",
        "        print(f'\\n\\nQuery:')\n",
        "        display(Image.open(BytesIO(doc_pt.blob)))\n",
        "        print(f'top match before fine-tuning:')\n",
        "        display(Image.open(BytesIO(doc_pt.matches[0].blob)))\n",
        "        print(f'top match after fine-tuning:')\n",
        "        display(Image.open(BytesIO(doc_ft.matches[0].blob)))\n",
        "```\n",
        "\n",
        "![image-image-example](images/image-image-example.png)"
      ]
    },
    {
      "cell_type": "markdown",
      "metadata": {},
      "source": []
    }
  ],
  "metadata": {
    "accelerator": "GPU",
    "colab": {
      "collapsed_sections": [],
      "provenance": []
    },
    "kernelspec": {
      "display_name": "Python 3.7.15 ('.venv': venv)",
      "language": "python",
      "name": "python3"
    },
    "language_info": {
      "name": "python",
      "version": "3.7.15"
    },
    "vscode": {
      "interpreter": {
        "hash": "9ad9c14fbc5ce15e23594239b0b0bb7cf990b71472055d7d43822c20d61e1cff"
      }
    }
  },
  "nbformat": 4,
  "nbformat_minor": 0
}
