{
  "cells": [
    {
      "cell_type": "markdown",
      "metadata": {
        "id": "C0RxIJmLkTGk"
      },
      "source": [
        "# 3D Mesh-to-3D Mesh Search via PointNet++\n",
        "\n",
        "<a href=\"https://colab.research.google.com/drive/1lIMDFkUVsWMshU-akJ_hwzBfJ37zLFzU?usp=sharing\"><img alt=\"Open In Colab\" src=\"https://colab.research.google.com/assets/colab-badge.svg\"></a>\n",
        "\n",
        "Finding similar 3D Meshes can become very time-consuming. To support this task, one can build search systems. To directly search on the 3D meshes without relying on metadata one can use an encoder model which creates a point cloud from the mesh and encode it into vector dense representations which can be compared to each other. To enable those models to detect the right attributes of a 3D mesh, this tutorial shows you how to use Finetuner to train and use a model for a 3D mesh search system."
      ]
    },
    {
      "cell_type": "markdown",
      "metadata": {
        "id": "mk4gxLZnYJry"
      },
      "source": [
        "## Install"
      ]
    },
    {
      "cell_type": "code",
      "execution_count": null,
      "metadata": {
        "colab": {
          "background_save": true
        },
        "id": "vDVkw65kkQcn"
      },
      "outputs": [],
      "source": [
        "!pip install 'finetuner[full]'\n",
        "!pip install 'docarray[full]'"
      ]
    },
    {
      "cell_type": "markdown",
      "metadata": {
        "id": "q7Bb9o5ZHSZ3"
      },
      "source": [
        "## Task\n",
        "\n",
        "Finetuner supports an embedding model which is based on the Pytorch [implementation](https://github.com/yanx27/Pointnet_Pointnet2_pytorch) of the [PointNet++ model](https://proceedings.neurips.cc/paper/2017/file/d8bf84be3800d12f74d8b05e9b89836f-Paper.pdf). This tutorial will show you how to train and use this model for 3D mesh search.\n",
        "\n",
        "We demonstrate this on the [Modelnet40](https://modelnet.cs.princeton.edu/) dataset, which consists of more than 12k 3D meshes of objects from 40 classes.\n",
        "Specifically, we want to build a search system, which can receive a 3D mesh and retrieves meshes of the same class.\n"
      ]
    },
    {
      "cell_type": "markdown",
      "metadata": {
        "id": "H1Yo3NuGP1Oi"
      },
      "source": [
        "## Data\n",
        "\n",
        "ModelNet40 consists of 9843 meshes provided for training and 2468 meshes for testing. Usually, you would have to download the [dataset](https://modelnet.cs.princeton.edu/) unzip it, [prepare it, and upload it to the Jina AI Cloud](https://finetuner.jina.ai/walkthrough/create-training-data/). After that, you can provide the name of the dataset used for the upload to Finetuner.\n",
        "\n",
        "For this tutorial, we already prepared the data and uploaded it. Specifically, the training data is uploaded as `modelnet40-train`. For evaluating the model, we split the test set of the original dataset into 300 meshes, which serve as queries (`modelnet40-queries`), and 2168 meshes which serve as the mesh collection, which is searched in (`modelnet40-index`).\n",
        "\n",
        "Each 3D mesh in the dataset is represented by a [DocArray](https://github.com/docarray/docarray) Document object. It contains the URI (local file path) of the original file and a tensor that contains a point cloud with 2048 3D points sampled from the mesh.\n",
        "\n",
        "```{admonition} Push data to the cloud\n",
        "We don't require you to push data to the Jina AI Cloud by yourself. Instead of a name, you can provide a `DocumentArray` or a path to a CSV file.\n",
        "In those cases Finetuner will do the job for you.\n",
        "When you construct a DocArray dataset with documents of 3D meshes, please call `doc.load_uri_to_point_cloud_tensor(2048)` to create point clouds from your local mesh files before pushing the data to the cloud since Finetuner has no access to your local files.\n",
        "```\n",
        "\n",
        "The code below loads the data and prints a summary of the training datasets:"
      ]
    },
    {
      "cell_type": "code",
      "execution_count": null,
      "metadata": {
        "id": "uTDreSwfYGOR"
      },
      "outputs": [],
      "source": [
        "import finetuner\n",
        "from docarray import DocumentArray, Document\n",
        "\n",
        "finetuner.login(force=True)"
      ]
    },
    {
      "cell_type": "code",
      "execution_count": null,
      "metadata": {
        "id": "Y-Um5gE8IORv"
      },
      "outputs": [],
      "source": [
        "train_data = DocumentArray.pull('finetuner/modelnet40-train', show_progress=True)\n",
        "query_data = DocumentArray.pull('finetuner/modelnet40-queries', show_progress=True)\n",
        "index_data = DocumentArray.pull('finetuner/modelnet40-index', show_progress=True)\n",
        "\n",
        "train_data.summary()"
      ]
    },
    {
      "cell_type": "markdown",
      "metadata": {
        "id": "r4cP95RzLybw"
      },
      "source": [
        "Now, we want to take a look at the point clouds of some of the meshes. Therefore, you can use the [`display`](https://docarray.jina.ai/api/docarray.document/#docarray.document.Document.display) function:"
      ]
    },
    {
      "cell_type": "code",
      "execution_count": null,
      "metadata": {
        "id": "kCv455NPMD1O"
      },
      "outputs": [],
      "source": [
        "index_data[0].display()"
      ]
    },
    {
      "cell_type": "markdown",
      "metadata": {
        "id": "XlttkaD5Omhk"
      },
      "source": [
        "![A point cloud example](https://user-images.githubusercontent.com/6599259/208113813-bcf498d9-edf7-4496-a087-03bb783f3b70.png)"
      ]
    },
    {
      "cell_type": "markdown",
      "metadata": {
        "id": "B3I_QUeFT_V0"
      },
      "source": [
        "## Backbone model\n",
        "\n",
        "The model we provide for 3d mesh encoding is called `pointnet-base`. In the following, we show you how to train it on the ModelNet training dataset."
      ]
    },
    {
      "cell_type": "markdown",
      "metadata": {
        "id": "lqg0eY9oknLL"
      },
      "source": [
        "## Fine-tuning\n",
        "\n",
        "Now that we have data for training and evaluation. as well as the name of the model, which we want to train, we can configure and submit a fine-tuning run:"
      ]
    },
    {
      "cell_type": "code",
      "execution_count": null,
      "metadata": {
        "id": "rR22MbgITp8M"
      },
      "outputs": [],
      "source": [
        "from finetuner.callback import EvaluationCallback\n",
        "\n",
        "run = finetuner.fit(\n",
        "    model='pointnet-base',\n",
        "    train_data='finetuner/modelnet40-train',\n",
        "    epochs=10,\n",
        "    batch_size=64,\n",
        "    learning_rate= 5e-4,\n",
        "    loss='TripletMarginLoss',\n",
        "    device='cuda',\n",
        "    callbacks=[\n",
        "        EvaluationCallback(\n",
        "            query_data='finetuner/modelnet40-queries',\n",
        "            index_data='finetuner/modelnet40-index',\n",
        "            batch_size=64,\n",
        "        )\n",
        "    ],\n",
        ")"
      ]
    },
    {
      "cell_type": "markdown",
      "metadata": {
        "id": "ossT9LH1oh6K"
      },
      "source": [
        "Let's understand what this piece of code does:\n",
        "\n",
        "* We start with providing a `model` name, in our case \"pointnet-base\".\n",
        "* Via the `train_data` parameter, we inform the Finetuner about the name of the dataset in the Jina AI Cloud\n",
        "* We also provide some hyper-parameters such as the number of `epochs`, `batch_size`, and a `learning_rate`.\n",
        "* We use `TripletMarginLoss` to optimize the PointNet++ model.\n",
        "* We use an evaluation callback, which uses the fine-tuned model for encoding the text queries and meshes in the index data collection. It also accepts the `batch_size` attribute. By encoding 64 meshes at once, the evaluation gets faster.\n"
      ]
    },
    {
      "cell_type": "markdown",
      "metadata": {
        "id": "AsHsMJP6p7Co"
      },
      "source": [
        "## Monitoring\n",
        "\n",
        "Now that we've created a run, let's see how it's processing. You can monitor the run by checking the status via `run.status()` and view the logs with `run.logs()`. To stream logs, call `run.stream_logs()`:"
      ]
    },
    {
      "cell_type": "code",
      "execution_count": null,
      "metadata": {
        "id": "PCCRZ6PalsK3"
      },
      "outputs": [],
      "source": [
        "# note, the fine-tuning might takes 20~ minutes\n",
        "for entry in run.stream_logs():\n",
        "    print(entry)"
      ]
    },
    {
      "cell_type": "markdown",
      "metadata": {
        "id": "zG7Uci-qqkzM"
      },
      "source": [
        "Since some runs might take up to several hours/days, it's important to know how to reconnect to Finetuner and retrieve your run.\n",
        "\n",
        "```python\n",
        "import finetuner\n",
        "\n",
        "finetuner.login()\n",
        "run = finetuner.get_run(run.name)\n",
        "```\n",
        "\n",
        "You can continue monitoring the run by checking the status - `finetuner.run.Run.status()` or the logs - `finetuner.run.Run.logs()`."
      ]
    },
    {
      "cell_type": "markdown",
      "metadata": {
        "id": "WgTrq9D5q0zc"
      },
      "source": [
        "## Evaluating\n",
        "\n",
        "Our `EvaluationCallback` during fine-tuning ensures that after each epoch, an evaluation of our model is run. We can access the results of the last evaluation in the logs as follows `print(run.logs())`:\n",
        "\n",
        "```bash\n",
        "  Training [10/10] ━━━━━━━━━━━━━━━━━━━━━━━━━━━━━━━━━━━━━━━━ 154/154 0:00:00 0:00:26 • loss: 0.001\n",
        "           INFO     Done ✨                                                                                                                                            __main__.py:195\n",
        "           DEBUG    Finetuning took 0 days, 0 hours 5 minutes and 39 seconds                                                                                           __main__.py:197\n",
        "           INFO     Metric: 'pointnet_base_precision_at_k' before fine-tuning:  0.56533 after fine-tuning: 0.81100                                                        __main__.py:210\n",
        "           INFO     Metric: 'pointnet_base_recall_at_k' before fine-tuning:  0.15467 after fine-tuning: 0.24175                                                           __main__.py:210\n",
        "           INFO     Metric: 'pointnet_base_f1_score_at_k' before fine-tuning:  0.23209 after fine-tuning: 0.34774                                                         __main__.py:210\n",
        "           INFO     Metric: 'pointnet_base_hit_at_k' before fine-tuning:  0.95667 after fine-tuning: 0.95333                                                              __main__.py:210\n",
        "           INFO     Metric: 'pointnet_base_average_precision' before fine-tuning:  0.71027 after fine-tuning: 0.85515                                                     __main__.py:210\n",
        "           INFO     Metric: 'pointnet_base_reciprocal_rank' before fine-tuning:  0.79103 after fine-tuning: 0.89103                                                       __main__.py:210\n",
        "           INFO     Metric: 'pointnet_base_dcg_at_k' before fine-tuning:  4.71826 after fine-tuning: 6.41999                                                              __main__.py:210\n",
        "           INFO     Building the artifact ...                                                                                                                          __main__.py:215\n",
        "           INFO     Saving artifact locally ...                                                                                                                        __main__.py:237\n",
        "[15:46:55] INFO     Artifact saved in artifacts/                                                                                                                       __main__.py:239\n",
        "           DEBUG    Artifact size is 27.379 MB                                                                                                                         __main__.py:245\n",
        "           INFO     Finished 🚀                                                                                                                                        __main__.py:246\n",
        "\n",
        "```\n"
      ]
    },
    {
      "cell_type": "markdown",
      "metadata": {
        "id": "W4ZCKUOfq9oC"
      },
      "source": [
        "\n",
        "After the run has finished successfully, you can download the tuned model on your local machine:"
      ]
    },
    {
      "cell_type": "code",
      "execution_count": null,
      "metadata": {
        "id": "K5UdKleiqd8m"
      },
      "outputs": [],
      "source": [
        "artifact = run.save_artifact('pointnet_model')"
      ]
    },
    {
      "cell_type": "markdown",
      "metadata": {
        "id": "JU3uUVyirTE1"
      },
      "source": [
        "## Inference\n",
        "\n",
        "Now you saved the `artifact` into your host machine,\n",
        "let's use the fine-tuned model to encode a new `Document`:"
      ]
    },
    {
      "cell_type": "code",
      "execution_count": null,
      "metadata": {
        "id": "rDGxi7kVq_sH"
      },
      "outputs": [],
      "source": [
        "model = finetuner.get_model(artifact=artifact, device='cuda')\n",
        "\n",
        "finetuner.encode(model=model, data=query_data)\n",
        "finetuner.encode(model=model, data=index_data)\n",
        "\n",
        "assert query.embeddings.shape == (1, 512)"
      ]
    },
    {
      "cell_type": "markdown",
      "metadata": {
        "id": "pfoc4YG4rrkI"
      },
      "source": [
        "And finally, you can use the embedded `query` to find top-k visually related images within `index_data` as follows:"
      ]
    },
    {
      "cell_type": "code",
      "execution_count": null,
      "metadata": {
        "id": "_jGsSyedrsJp"
      },
      "outputs": [],
      "source": [
        "query_data.match(index_data, limit=10, metric='cosine')"
      ]
    },
    {
      "cell_type": "markdown",
      "metadata": {
        "id": "xGAjr26o6j-n"
      },
      "source": [
        "To compare the matches against results obtained with a pointnet-base model without training, you can use the `build_model` function:"
      ]
    },
    {
      "cell_type": "code",
      "execution_count": null,
      "metadata": {
        "id": "cChTjw3b6iXq"
      },
      "outputs": [],
      "source": [
        "zero_shot_model = finetuner.build_model('pointnet-base')\n",
        "\n",
        "finetuner.encode(model=zero_shot_model, data=query_data)\n",
        "finetuner.encode(model=zero_shot_model, data=index_data)\n",
        "\n",
        "query_data.match(index_data, limit=10, metric='cosine')"
      ]
    },
    {
      "cell_type": "markdown",
      "metadata": {
        "id": "CgZHPInNWWHn"
      },
      "source": [
        "## Before and After\n",
        "\n",
        "After the inference, you can investigate the results with the [`display`](https://docarray.jina.ai/api/docarray.document/#docarray.document.Document.display) function, as shown in the code block below:"
      ]
    },
    {
      "cell_type": "code",
      "execution_count": null,
      "metadata": {
        "id": "p37Ryip2dKoO"
      },
      "outputs": [],
      "source": [
        "query_data[5].display()\n",
        "query_data[5].matches[0].display()"
      ]
    },
    {
      "cell_type": "markdown",
      "metadata": {
        "id": "lybyfx6OdMJL"
      },
      "source": [
        "While you will notice that the PointNet++ might already deliver good results for some queries without training, the fine-tuned model does perform better on many queries like the ones shown below:\n",
        "\n",
        "![Results](https://user-images.githubusercontent.com/6599259/208681224-aa3263f2-326a-4c66-baf0-7fa1dbf594a2.png)\n",
        "\n"
      ]
    }
  ],
  "metadata": {
    "colab": {
      "provenance": []
    },
    "kernelspec": {
      "display_name": "Python 3",
      "name": "python3"
    },
    "language_info": {
      "name": "python"
    }
  },
  "nbformat": 4,
  "nbformat_minor": 0
}
