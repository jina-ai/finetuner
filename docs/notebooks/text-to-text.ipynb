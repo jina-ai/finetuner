{
  "nbformat": 4,
  "nbformat_minor": 0,
  "metadata": {
    "colab": {
      "provenance": [],
      "collapsed_sections": []
    },
    "kernelspec": {
      "name": "python3",
      "display_name": "Python 3"
    },
    "language_info": {
      "name": "python"
    },
    "accelerator": "GPU"
  },
  "cells": [
    {
      "cell_type": "markdown",
      "source": [
        "# Text-to-Text Search via BERT\n",
        "\n",
        "<a href=\"https://colab.research.google.com/drive/1Ui3Gw3ZL785I7AuzlHv3I0-jTvFFxJ4_?usp=sharing\"><img alt=\"Open In Colab\" src=\"https://colab.research.google.com/assets/colab-badge.svg\"></a>\n",
        "\n",
        "Searching large amounts of text documents with text queries is a very popular use-case, so of course Finetuner enables you to accomplish this easily.\n",
        "\n",
        "This guide will lead you through an example use-case to show you how Finetuner can be used for text to text retrieval (Dense Retrieval).\n",
        "\n",
        "*Note, please consider switch to GPU/TPU Runtime for faster inference.*\n",
        "\n",
        "## Install"
      ],
      "metadata": {
        "id": "Huf1E2zq7JWb"
      }
    },
    {
      "cell_type": "code",
      "source": [
        "# change this after release!\n",
        "!pip install 'git+https://github.com/jina-ai/finetuner.git#egg=finetuner[full]'"
      ],
      "metadata": {
        "id": "CSuWo72R7Sno"
      },
      "execution_count": null,
      "outputs": []
    },
    {
      "cell_type": "markdown",
      "source": [
        "## Task\n",
        "\n",
        "In Finetuner, two BERT models are supported as backbones, namely `bert-base-cased` and `sentence-transformers/msmarco-distilbert-base-v3`, both of which are models hosted on Hugging Face.\n",
        "\n",
        "In this example, we will fine-tune `bert-base-cased` on the [Quora Question Pairs](https://www.sbert.net/examples/training/quora_duplicate_questions/README.html?highlight=quora#dataset) dataset, where the search task involves finding duplicate questions in the dataset. \n",
        "An example query for this search task might look as follows:\n",
        "\n",
        "```\n",
        "How can I be a good geologist?\n",
        "\n",
        "```\n",
        "\n",
        "Retrieved documents that could be duplicates for this question should then be ranked in the following order:\n",
        "\n",
        "```\n",
        "What should I do to be a great geologist?\n",
        "How do I become a geologist?\n",
        "What do geologists do?\n",
        "...\n",
        "\n",
        "```\n",
        "\n",
        "We will use BERT as an embedding model that embeds texts in a high dimensional space.\n",
        "We can fine-tune BERT so that questions that are duplicates of each other are represented in close proximity and questions that are not duplicates will have representations that are further apart in the embedding space. In this way, we can rank the embeddings in our search space by their proximity to the query question and return the highest ranking duplicates."
      ],
      "metadata": {
        "id": "FPDhvWkw7kas"
      }
    },
    {
      "cell_type": "markdown",
      "source": [
        "## Data\n",
        "\n",
        "We will use the [Quora Question Pairs](https://www.sbert.net/examples/training/quora_duplicate_questions/README.html?highlight=quora#dataset) dataset to show-case Finetuner for text to text search. We have already pre-processed this dataset and made it available for you to pull from hubble. Do this as follows:"
      ],
      "metadata": {
        "id": "SfR6g0E_8fOz"
      }
    },
    {
      "cell_type": "code",
      "source": [
        "import finetuner\n",
        "from docarray import DocumentArray, Document\n",
        "\n",
        "finetuner.notebook_login()"
      ],
      "metadata": {
        "id": "pwS11Nsg7jPM"
      },
      "execution_count": null,
      "outputs": []
    },
    {
      "cell_type": "code",
      "source": [
        "train_data = DocumentArray.pull('quora_train.da', show_progress=True)\n",
        "query_data = DocumentArray.pull('quora_query_dev.da', show_progress=True)\n",
        "index_data = DocumentArray.pull('quora_index_dev.da', show_progress=True)\n",
        "\n",
        "train_data.summary()"
      ],
      "metadata": {
        "id": "8PIO5T--p4tR"
      },
      "execution_count": null,
      "outputs": []
    },
    {
      "cell_type": "markdown",
      "source": [
        "So we have 104598 training `Document`s. Each `Document` consists of a text field that contains the question, as well as a `finetuner_label` which indicates the label to which the question belongs. If multiple questions have the same label, they are duplicates of one another. If they have different `finetuner_label`s, they are not duplicates of each other.\n",
        "\n",
        "As for the evaluation dataset, we load `query_data` and `index_data` separately. The `query_data` has the same structure as the `train_data`, consisting of labelled documents. The `index_data` is the data against which the queries will be matched, and contains many documents, some of which may be irrelevant to the queries (ie. they have no duplicated in the `query_data`).\n",
        "If you look at the summaries for the `query_data` and `index_data`, you will find that they have the following number of instances:\n",
        "\n",
        "```\n",
        "Length of queries DocumentArray: 5000\n",
        "Length of index DocumentArray: 15746\n",
        "```"
      ],
      "metadata": {
        "id": "r_IlEIp59g9v"
      }
    },
    {
      "cell_type": "markdown",
      "source": [
        "## Backbone model\n",
        "To keep things simple, we have decided to fine-tune the BERT model `bert-base-cased`. We could also have chosen `sentence-transformers/msmarco-distilbert-base-v3` as our base model, which has already been fine-tuned on the MSMarco dataset. \n",
        "However, for the purpose of this experiment, we want to explore how much improvement in performance we can gain from fine-tuning `bert-base-cased` on the Quora Question Pairs dataset using Finetuner. \n",
        "Perhaps in the future, we might want to create another run where we experiment with fine-tuning other BERT models.\n",
        "\n"
      ],
      "metadata": {
        "id": "aXYrABkN9vYO"
      }
    },
    {
      "cell_type": "markdown",
      "source": [
        "## Fine-tuning\n",
        "\n",
        "Now that we have the training and evaluation datasets loaded as `DocumentArray`s and selected our model, we can start our fine-tuning run."
      ],
      "metadata": {
        "id": "IAlQArUB99oG"
      }
    },
    {
      "cell_type": "code",
      "source": [
        "from finetuner.callback import EvaluationCallback\n",
        "\n",
        "run = finetuner.fit(\n",
        "    model='bert-base-cased',\n",
        "    train_data='quora_train.da',\n",
        "    loss='TripletMarginLoss',\n",
        "    optimizer='Adam',\n",
        "    learning_rate = 1e-5,\n",
        "    epochs=3,\n",
        "    batch_size=128,\n",
        "    device='cuda',\n",
        "    callbacks=[\n",
        "        EvaluationCallback(\n",
        "            query_data='quora_query_dev.da',\n",
        "            index_data='quora_index_dev.da',\n",
        "            batch_size=32\n",
        "        )\n",
        "    ]\n",
        ")"
      ],
      "metadata": {
        "id": "hsRfjf1Z8ymZ"
      },
      "execution_count": null,
      "outputs": []
    },
    {
      "cell_type": "markdown",
      "source": [
        "Our fine-tuning call has a lot of arguments. Let's discuss what the most important ones are responsible for. \n",
        "\n",
        "Most importantly, we select our model with `model='bert-base-cased'` and pass our training data with `train_data=train_data`. These two arguments are required. \n",
        "We set our `experiment_name` to `'finetune-quora-dataset'` and our `run_name` to `'finetune-quora-dataset-bert-base-cased'`. \n",
        "This will make it easy for us to retrieve the experiment and run in the future. We also provide a short description of our run, just for some extra context. \n",
        "\n",
        "For this run, we select Finetuner's `TripletMarginLoss` and `TripletMarginMiner`, as they are most relevant for our use-case. The `TripletMarginLoss` measures the similarity between three tensors, namely the anchor, a positive sample and a negative sample. This makes sense for our task, since we want duplicate questions to have representations closer together, while non-duplicates should have more dissimilar representations. Likewise, the `TripletMarginMiner` outputs a tuple of size 3, with an anchor, a positive sample and a negative sample.\n",
        "\n",
        "Lastly, we provide an `EvaluationCallback` with our `query_data` and `index_data`. This evaluation is done at the end of each epoch and its results will be visible to us in the logs, which we will monitor in the next section. Since we have not specified which metrics should be applied, default metrics will be computed. The `Evaluation` section of this guide will show you the default metrics."
      ],
      "metadata": {
        "id": "j_MxAW9E-ddZ"
      }
    },
    {
      "cell_type": "markdown",
      "source": [
        "## Monitoring\n",
        "\n",
        "Now that we've created a run, let's see its status. You can monitor the run by checking the status - `run.status()`, the logs - `run.logs()` or `run.stream_logs()`. \n",
        "\n",
        "*note, the job will take around 15 minutes to finish.*"
      ],
      "metadata": {
        "id": "h0DGNRo8-lZD"
      }
    },
    {
      "cell_type": "code",
      "source": [
        "for entry in run.stream_logs():\n",
        "    print(entry)"
      ],
      "metadata": {
        "id": "gajka0TG-S6u"
      },
      "execution_count": null,
      "outputs": []
    },
    {
      "cell_type": "markdown",
      "source": [
        "Dependends on the size of the training data, some runs might take up to several hours, you can reconnect to your run very easily to monitor its status.\n",
        "\n",
        "```python\n",
        "import finetuner\n",
        "\n",
        "finetuner.login()\n",
        "run = finetuner.get_run('finetune-quora-dataset-bert-base-cased')\n",
        "print(f'Run status: {run.status()}')\n",
        "```"
      ],
      "metadata": {
        "id": "7AuB0IWC_CSt"
      }
    },
    {
      "cell_type": "markdown",
      "source": [
        "## Evaluating\n",
        "\n",
        "Our `EvaluationCallback` during fine-tuning ensures that after each epoch, an evaluation of our model is run. We can access the evaluation results in the logs as follows `print(run.logs())`:\n",
        "\n",
        "```bash\n",
        "  Training [3/3] ━━━━━━━━━━━━━━━━━━━━━━━━━━━━━━━━━━━━━━━━ 818/818 0:00:00 0:03:05 • loss: 0.000\n",
        "[15:36:40] DEBUG    Metric: 'model_average_precision' Value: 0.95728                                     __main__.py:202\n",
        "           DEBUG    Metric: 'model_dcg_at_k' Value: 1.33912                                              __main__.py:202\n",
        "           DEBUG    Metric: 'model_f1_score_at_k' Value: 0.13469                                         __main__.py:202\n",
        "           DEBUG    Metric: 'model_hit_at_k' Value: 0.99720                                              __main__.py:202\n",
        "           DEBUG    Metric: 'model_ndcg_at_k' Value: 0.97529                                             __main__.py:202\n",
        "           DEBUG    Metric: 'model_precision_at_k' Value: 0.07653                                        __main__.py:202\n",
        "           DEBUG    Metric: 'model_r_precision' Value: 0.94393                                           __main__.py:202\n",
        "           DEBUG    Metric: 'model_recall_at_k' Value: 0.99301                                           __main__.py:202\n",
        "           DEBUG    Metric: 'model_reciprocal_rank' Value: 0.96686                                       __main__.py:202\n",
        "           INFO     Done ✨                                                                              __main__.py:204\n",
        "           INFO     Saving fine-tuned models ...                                                         __main__.py:207\n",
        "           INFO     Saving model 'model' in /usr/src/app/tuned-models/model ...                          __main__.py:218\n",
        "[15:36:41] INFO     Pushing saved model to Hubble ...                                                    __main__.py:225\n",
        "[15:37:32] INFO     Pushed model artifact ID: '62b9cb73a411d7e08d18bd16'                                 __main__.py:231\n",
        "           INFO     Finished 🚀                                                                          __main__.py:233                                                  __main__.py:225\n",
        "```"
      ],
      "metadata": {
        "id": "agqrb0TX_Y4b"
      }
    },
    {
      "cell_type": "markdown",
      "source": [
        "## Saving\n",
        "Once your run has successfully completed, you can save your fine-tuned model in the following way:"
      ],
      "metadata": {
        "id": "KTfBfB8A_1fO"
      }
    },
    {
      "cell_type": "code",
      "source": [
        "artifact = run.save_artifact('bert-model')"
      ],
      "metadata": {
        "id": "z7AJw3X9-7C-"
      },
      "execution_count": null,
      "outputs": []
    },
    {
      "cell_type": "markdown",
      "source": [
        "## Inference\n",
        "\n",
        "Now you saved the `artifact` into your host machine,\n",
        "let's use the fine-tuned model to encode a new `Document`:\n",
        "\n",
        "```{admonition} Inference with ONNX\n",
        "In case you set `to_onnx=True` when calling `finetuner.fit` function,\n",
        "please use `model = finetuner.get_model('/path/to/YOUR-MODEL.zip', is_onnx=True)`\n",
        "```"
      ],
      "metadata": {
        "id": "YYgPIR_kAI6z"
      }
    },
    {
      "cell_type": "code",
      "source": [
        "model = finetuner.get_model(artifact=artifact, device='cuda')\n",
        "\n",
        "query = DocumentArray([Document(text='How can I be an engineer?')])\n",
        "\n",
        "finetuner.encode(model=model, data=query)\n",
        "finetuner.encode(model=model, data=index_data)\n",
        "assert query.embeddings.shape == (1, 768)"
      ],
      "metadata": {
        "id": "Qs2G-rNFAJ4I"
      },
      "execution_count": null,
      "outputs": []
    },
    {
      "cell_type": "markdown",
      "source": [
        "And finally you can use the embeded `query` to find top-k semantically related text within `index_data` as follows:"
      ],
      "metadata": {
        "id": "a_vUDidVIkh7"
      }
    },
    {
      "cell_type": "code",
      "source": [
        "query.match(train_data, limit=10, metric='cosine')"
      ],
      "metadata": {
        "id": "-_bM-TXRE2h7"
      },
      "execution_count": null,
      "outputs": []
    },
    {
      "cell_type": "markdown",
      "source": [
        "That's it!"
      ],
      "metadata": {
        "id": "czK5pSUEAcdS"
      }
    }
  ]
}